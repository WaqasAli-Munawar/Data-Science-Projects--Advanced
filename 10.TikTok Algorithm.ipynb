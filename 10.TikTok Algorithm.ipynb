{
 "cells": [
  {
   "cell_type": "markdown",
   "metadata": {},
   "source": [
    "Discovery of the **TikTok** Algorithm is a very popular and powerful recommendation system. Similar to **Netflix** and **YouTube**, **TikTok** algorithm works out for us. It can provide us with profiled recommendations if we use the app by interacting with it in some way."
   ]
  },
  {
   "cell_type": "markdown",
   "metadata": {},
   "source": [
    "Just think about; \n",
    "* how long a person can watch a video, \n",
    "* which videos he watches, \n",
    "* which ones he skips, \n",
    "* which ones he likes and \n",
    "* on what videos he comments on, etc. \n",
    "\n",
    "These are features that we have to take into account to feed the algorithm.\n",
    "\n",
    "TikTok has graciously shared the conceptual workings of their algorithm on its website. It focuses on the concepts of the algorithm, rather than the code, so here we are going to apply those concepts to the code and share a simple guide to create this type of popular algorithm.\n",
    "\n",
    "### How the TikTok Algorithm Works?\n",
    "\n",
    "TikTok algorithm splits into two types of recommendation algorithms which can ultimately be formed into a single ensemble-type algorithm, namely \n",
    "* collaborative filtering and \n",
    "* content-based filtering."
   ]
  },
  {
   "cell_type": "markdown",
   "metadata": {},
   "source": [
    "### Collaborative Filtering\n",
    "\n",
    "Collaborative filtering works by comparing us to others. Lets’s say we are new to this app and we start liking a video, we will start to see the recommended videos. \n",
    "\n",
    "These videos are the videos that other people like, who also liked the same past videos of us. This type of recommendation is technically called **alternating least squares and matrix factorization**.\n",
    "\n",
    "### Content-Based Filtering\n",
    "\n",
    "Content-based filtering works by comparing video attributes to suggest similar videos sharing those same attributes. The basic idea of this recommendation is the cosine similarity in this case. \n",
    "\n",
    "Think about attributes of the video like length, sound, and text. These features are used to recommend videos that carry similar attribute values.\n",
    "\n",
    "### Let’s Code The TikTok Algorithm\n",
    "\n",
    "How do we implement the concepts of Collaborative-Filtering and Content-Based filtering to create a TikTok algorithm? \n",
    "\n",
    "### Collaborative-Filtering:\n",
    "\n",
    "* We need to start by importing our essential libraries from **PySpark** first. \n",
    "* Then we load our data and create a pandas dataframe. \n",
    "* Next we divide our data into a train and a test. \n",
    "* Then, we will adapt our **ALS model (alternation of least squares)**.\n",
    "* Next, we need to make predictions and evaluate the model against a designated metric; in this case, its **RMSE**\n",
    "* Finally, we can print the video recommendations based on the columns or features that we have chosen to include in our user interaction dataset:"
   ]
  },
  {
   "cell_type": "code",
   "execution_count": 1,
   "metadata": {},
   "outputs": [],
   "source": [
    "from pyspark.ml.evaluation import RegressionEvaluator\n",
    "from pyspark.ml.recommendation import ALS\n",
    "from pyspark.sql import Row"
   ]
  },
  {
   "cell_type": "code",
   "execution_count": 5,
   "metadata": {},
   "outputs": [],
   "source": [
    "lines = spark.read.text(\"TEXT_FILE.txt\").rdd\n",
    "parts = lines.map(lambda row: row.value.split(\"::\"))\n",
    "liked_data = parts.map(lambda p: Row(COLUMN_1, COLUMN_2, like=like))"
   ]
  },
  {
   "cell_type": "code",
   "execution_count": null,
   "metadata": {},
   "outputs": [],
   "source": [
    "liked_df = spark.createDataFrame(liked_data)\n",
    "training, test = liked_df.randomSplit([0.75, 0.25])\n",
    "\n",
    "als = ALS(maxIter=4, regParam=0.05, users=\"COLUMN_1\", items=\"COLUMN_2\", ratingCol=\"like\",\n",
    "          coldStartStrategy=\"drop\")\n",
    "\n",
    "model = als.fit(training)\n",
    "predictions = model.transform(test)\n",
    "evaluator = RegressionEvaluator(metricName=\"rmse\", labelCol=\"like\",predictionCol=\"prediction\")\n",
    "                       \n",
    "rmse = evaluator.evaluate(predictions)\n",
    "print(\"RMSE = \" + str(rmse))\n",
    "videoRecs = model.recommendForUsers(20)"
   ]
  },
  {
   "cell_type": "markdown",
   "metadata": {},
   "source": [
    "### Content-Based Filtering:\n",
    "This code is relatively simple, but we can also expand it. Essentially, we will import our libraries and use the `consine_similarity` library which will calculate the videos from the past, to suggest similar videos as recommendations:"
   ]
  },
  {
   "cell_type": "code",
   "execution_count": null,
   "metadata": {},
   "outputs": [],
   "source": [
    "from sklearn.metrics.pairwise import cosine_similarity\n",
    "import pandas as pd\n",
    "\n",
    "data = pd.read_csv(\"DATA.csv\")\n",
    "# computing the cosine similarity\n",
    "alg = cosine_similarity(data)"
   ]
  },
  {
   "cell_type": "markdown",
   "metadata": {},
   "source": [
    "As we can see, there are a few ways to interpret the TikTok algorithm based on the concepts and features. We can practice using **collaborative filtering** and **content-based filtering**, as well as their respective algorithms for **ALS** and **cosine similarity**. These concepts and code can be applied not only to the TikTik use case, but also to other commonly used use cases where recommendations are also beneficial.\n",
    "\n",
    "Recommendations can be of two types - other people and other videos. We can also customize these recommendations by adding some variety or popularity to get a better feel for what the user generally wants."
   ]
  },
  {
   "cell_type": "code",
   "execution_count": null,
   "metadata": {},
   "outputs": [],
   "source": []
  }
 ],
 "metadata": {
  "kernelspec": {
   "display_name": "Python 3",
   "language": "python",
   "name": "python3"
  },
  "language_info": {
   "codemirror_mode": {
    "name": "ipython",
    "version": 3
   },
   "file_extension": ".py",
   "mimetype": "text/x-python",
   "name": "python",
   "nbconvert_exporter": "python",
   "pygments_lexer": "ipython3",
   "version": "3.7.6"
  }
 },
 "nbformat": 4,
 "nbformat_minor": 4
}

{
 "cells": [
  {
   "cell_type": "markdown",
   "metadata": {},
   "source": [
    "Have we ever heard of the word **API** and wondered what is it exactly? Got a vague idea, but want to know more about what we could do with an API and how we could create one? In this file, we will walk through how we can build an API with Python."
   ]
  },
  {
   "cell_type": "markdown",
   "metadata": {},
   "source": [
    "### What is an API?\n",
    "**API** stands for **Application Programming Interface**. Simply put, **APIs** simply allow applications to communicate with each other. When people talk about APIs, they sometimes generalize to mean a publicly available web API that returns data, likely in `JSON` or `XML` format. The API is not the database or even the server, it is the code that governs the access point of the server.\n",
    "\n",
    "They allow us to seek data from external sources. We can send a request to an API detailing the information we want.\n",
    "\n",
    "APIs also allow our sites to modify data from other applications. For example, we’ve probably seen Share on Facebook or share on Twitter buttons on various websites. If we click on one of these buttons, the site we are visiting can communicate with our Facebook or Twitter account and modify its data by adding a new status or a tweet."
   ]
  },
  {
   "cell_type": "markdown",
   "metadata": {},
   "source": [
    "### Creating An API with Python?\n",
    "The digitally connected world uses automated messages extensively. Invoices, rent, unique passwords, there are unlimited scopes for automated text.\n",
    "\n",
    "Say we have a mini-store and a new item arrives and we want to notify **50-100 of our customers**. How would we do it? Easy, text them, automatically. Now, as an example of creating an API we will set up an SMS client for quick learning. We found this website [www.textlocal.in](https://www.textlocal.in/). It provides bulk message options.\n",
    "\n",
    "Just create an account, they will give you 10 credits. After registration, go to `Settings> API>` Generate a new API key and save it in a safe place.You can allow specific IP addresses for security, but let’s keep the fields blank for now.\n",
    "\n",
    "Then the Requests will go to link [https://api.textlocal.in/{command}](https://api.textlocal.in/%7Bcommand%7D). Now let’s get into the coding part to create an API with Python."
   ]
  },
  {
   "cell_type": "markdown",
   "metadata": {},
   "source": [
    "### Let’s Code to Build API \n",
    "\n",
    "We need only one library to build an API. Let’s import it and get started with the task"
   ]
  },
  {
   "cell_type": "code",
   "execution_count": 1,
   "metadata": {},
   "outputs": [],
   "source": [
    "import requests\n",
    "url = \"https://api.textlocal.in/\"\n",
    "# params = {\"username\":\"yourusername@mailid.com\",\"apiKey\":\"yourGenerated-APIKey\"}"
   ]
  },
  {
   "cell_type": "code",
   "execution_count": 2,
   "metadata": {},
   "outputs": [],
   "source": [
    "# Writing the necessary functions:\n",
    "\n",
    "def check_balance(url):\n",
    "    url = url+'balance'\n",
    "    response = requests.get(url,params=params)\n",
    "    return response.json()\n",
    "\n",
    "def send_sms(url,params):\n",
    "    url=url+'send'\n",
    "    #Phone numbers inside braces {} in commas\n",
    "    numbers={'9911111xxxx'}\n",
    "    message = {'Hi, This is a Sample message'}\n",
    "    params['numbers'] = numbers\n",
    "    params['message'] = message\n",
    "    response = requests.post(url,params=params)\n",
    "    return response.json()\n",
    "\n",
    "def inbox(url):\n",
    "    url = url+'get_inboxes'\n",
    "    response = requests.get(url,params=params)\n",
    "    return response.json()"
   ]
  },
  {
   "cell_type": "markdown",
   "metadata": {},
   "source": [
    "Code completed in just five minutes. We can configure SMS message for single or bulk messages. "
   ]
  },
  {
   "cell_type": "code",
   "execution_count": null,
   "metadata": {},
   "outputs": [],
   "source": []
  }
 ],
 "metadata": {
  "kernelspec": {
   "display_name": "Python 3",
   "language": "python",
   "name": "python3"
  },
  "language_info": {
   "codemirror_mode": {
    "name": "ipython",
    "version": 3
   },
   "file_extension": ".py",
   "mimetype": "text/x-python",
   "name": "python",
   "nbconvert_exporter": "python",
   "pygments_lexer": "ipython3",
   "version": "3.7.6"
  }
 },
 "nbformat": 4,
 "nbformat_minor": 4
}

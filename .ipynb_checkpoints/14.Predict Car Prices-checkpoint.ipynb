{
 "cells": [
  {
   "cell_type": "markdown",
   "metadata": {},
   "source": [
    "In this file, we will go through how we can train a model that will help us predict car prices using PyTorch. \n"
   ]
  },
  {
   "cell_type": "markdown",
   "metadata": {},
   "source": [
    "### What is PyTorch?\n",
    "\n",
    "**PyTorch** is a library in Python which provides tools to build deep learning models. \n",
    "* Python is a very flexible language for programming and just like python, the PyTorch library provides flexible tools for deep learning. \n",
    "* If we are learning deep learning or looking to start with it, then the knowledge of PyTorch will help us a lot in creating our deep learning models."
   ]
  },
  {
   "cell_type": "code",
   "execution_count": 4,
   "metadata": {},
   "outputs": [],
   "source": [
    "# pip install jovian"
   ]
  },
  {
   "cell_type": "code",
   "execution_count": 3,
   "metadata": {},
   "outputs": [
    {
     "data": {
      "application/javascript": [
       "if (window.IPython && IPython.notebook.kernel) IPython.notebook.kernel.execute('jovian.utils.jupyter.get_notebook_name_saved = lambda: \"' + IPython.notebook.notebook_name + '\"')"
      ],
      "text/plain": [
       "<IPython.core.display.Javascript object>"
      ]
     },
     "metadata": {},
     "output_type": "display_data"
    }
   ],
   "source": [
    "import torch\n",
    "import jovian\n",
    "import torch.nn as nn\n",
    "import pandas as pd\n",
    "import matplotlib.pyplot as plt\n",
    "import torch.nn.functional as F\n",
    "from torch.utils.data import DataLoader, TensorDataset, random_split"
   ]
  },
  {
   "cell_type": "code",
   "execution_count": 5,
   "metadata": {},
   "outputs": [
    {
     "data": {
      "text/html": [
       "<div>\n",
       "<style scoped>\n",
       "    .dataframe tbody tr th:only-of-type {\n",
       "        vertical-align: middle;\n",
       "    }\n",
       "\n",
       "    .dataframe tbody tr th {\n",
       "        vertical-align: top;\n",
       "    }\n",
       "\n",
       "    .dataframe thead th {\n",
       "        text-align: right;\n",
       "    }\n",
       "</style>\n",
       "<table border=\"1\" class=\"dataframe\">\n",
       "  <thead>\n",
       "    <tr style=\"text-align: right;\">\n",
       "      <th></th>\n",
       "      <th>Car_Name</th>\n",
       "      <th>Year</th>\n",
       "      <th>Selling_Price</th>\n",
       "      <th>Present_Price</th>\n",
       "      <th>Kms_Driven</th>\n",
       "      <th>Fuel_Type</th>\n",
       "      <th>Seller_Type</th>\n",
       "      <th>Transmission</th>\n",
       "      <th>Owner</th>\n",
       "    </tr>\n",
       "  </thead>\n",
       "  <tbody>\n",
       "    <tr>\n",
       "      <th>0</th>\n",
       "      <td>ritz</td>\n",
       "      <td>2014</td>\n",
       "      <td>3.35</td>\n",
       "      <td>5.59</td>\n",
       "      <td>27000</td>\n",
       "      <td>Petrol</td>\n",
       "      <td>Dealer</td>\n",
       "      <td>Manual</td>\n",
       "      <td>0</td>\n",
       "    </tr>\n",
       "    <tr>\n",
       "      <th>1</th>\n",
       "      <td>sx4</td>\n",
       "      <td>2013</td>\n",
       "      <td>4.75</td>\n",
       "      <td>9.54</td>\n",
       "      <td>43000</td>\n",
       "      <td>Diesel</td>\n",
       "      <td>Dealer</td>\n",
       "      <td>Manual</td>\n",
       "      <td>0</td>\n",
       "    </tr>\n",
       "    <tr>\n",
       "      <th>2</th>\n",
       "      <td>ciaz</td>\n",
       "      <td>2017</td>\n",
       "      <td>7.25</td>\n",
       "      <td>9.85</td>\n",
       "      <td>6900</td>\n",
       "      <td>Petrol</td>\n",
       "      <td>Dealer</td>\n",
       "      <td>Manual</td>\n",
       "      <td>0</td>\n",
       "    </tr>\n",
       "    <tr>\n",
       "      <th>3</th>\n",
       "      <td>wagon r</td>\n",
       "      <td>2011</td>\n",
       "      <td>2.85</td>\n",
       "      <td>4.15</td>\n",
       "      <td>5200</td>\n",
       "      <td>Petrol</td>\n",
       "      <td>Dealer</td>\n",
       "      <td>Manual</td>\n",
       "      <td>0</td>\n",
       "    </tr>\n",
       "    <tr>\n",
       "      <th>4</th>\n",
       "      <td>swift</td>\n",
       "      <td>2014</td>\n",
       "      <td>4.60</td>\n",
       "      <td>6.87</td>\n",
       "      <td>42450</td>\n",
       "      <td>Diesel</td>\n",
       "      <td>Dealer</td>\n",
       "      <td>Manual</td>\n",
       "      <td>0</td>\n",
       "    </tr>\n",
       "  </tbody>\n",
       "</table>\n",
       "</div>"
      ],
      "text/plain": [
       "  Car_Name  Year  Selling_Price  Present_Price  Kms_Driven Fuel_Type  \\\n",
       "0     ritz  2014           3.35           5.59       27000    Petrol   \n",
       "1      sx4  2013           4.75           9.54       43000    Diesel   \n",
       "2     ciaz  2017           7.25           9.85        6900    Petrol   \n",
       "3  wagon r  2011           2.85           4.15        5200    Petrol   \n",
       "4    swift  2014           4.60           6.87       42450    Diesel   \n",
       "\n",
       "  Seller_Type Transmission  Owner  \n",
       "0      Dealer       Manual      0  \n",
       "1      Dealer       Manual      0  \n",
       "2      Dealer       Manual      0  \n",
       "3      Dealer       Manual      0  \n",
       "4      Dealer       Manual      0  "
      ]
     },
     "execution_count": 5,
     "metadata": {},
     "output_type": "execute_result"
    }
   ],
   "source": [
    "dataframe_raw = pd.read_csv(\"car data.csv\")\n",
    "dataframe_raw.head()"
   ]
  },
  {
   "cell_type": "markdown",
   "metadata": {},
   "source": [
    "We can see how the data looks like. But before using it, we need to customize it, sort the arrows and remove the columns that don’t help the prediction.\n",
    "\n",
    "Here we drop the car names, and to do this customization, we use the following function:"
   ]
  },
  {
   "cell_type": "code",
   "execution_count": 6,
   "metadata": {},
   "outputs": [],
   "source": [
    "your_name = \"Waqas Ali\" # at least 5 characters\n",
    "\n",
    "def customize_dataset(dataframe_raw, rand_str):\n",
    "    dataframe = dataframe_raw.copy(deep=True)\n",
    "    # drop some rows\n",
    "    dataframe = dataframe.sample(int(0.95*len(dataframe)), random_state=int(ord(rand_str[0])))\n",
    "    # scale input\n",
    "    dataframe.Year = dataframe.Year * ord(rand_str[1])/100.\n",
    "    # scale target\n",
    "    dataframe.Selling_Price = dataframe.Selling_Price * ord(rand_str[2])/100.\n",
    "    # drop column\n",
    "    if ord(rand_str[3]) % 2 == 1:\n",
    "        dataframe = dataframe.drop(['Car_Name'], axis=1)\n",
    "    return dataframe"
   ]
  },
  {
   "cell_type": "code",
   "execution_count": 7,
   "metadata": {},
   "outputs": [
    {
     "data": {
      "text/html": [
       "<div>\n",
       "<style scoped>\n",
       "    .dataframe tbody tr th:only-of-type {\n",
       "        vertical-align: middle;\n",
       "    }\n",
       "\n",
       "    .dataframe tbody tr th {\n",
       "        vertical-align: top;\n",
       "    }\n",
       "\n",
       "    .dataframe thead th {\n",
       "        text-align: right;\n",
       "    }\n",
       "</style>\n",
       "<table border=\"1\" class=\"dataframe\">\n",
       "  <thead>\n",
       "    <tr style=\"text-align: right;\">\n",
       "      <th></th>\n",
       "      <th>Year</th>\n",
       "      <th>Selling_Price</th>\n",
       "      <th>Present_Price</th>\n",
       "      <th>Kms_Driven</th>\n",
       "      <th>Fuel_Type</th>\n",
       "      <th>Seller_Type</th>\n",
       "      <th>Transmission</th>\n",
       "      <th>Owner</th>\n",
       "    </tr>\n",
       "  </thead>\n",
       "  <tbody>\n",
       "    <tr>\n",
       "      <th>183</th>\n",
       "      <td>1952.61</td>\n",
       "      <td>0.3051</td>\n",
       "      <td>0.47</td>\n",
       "      <td>21000</td>\n",
       "      <td>Petrol</td>\n",
       "      <td>Individual</td>\n",
       "      <td>Manual</td>\n",
       "      <td>0</td>\n",
       "    </tr>\n",
       "    <tr>\n",
       "      <th>67</th>\n",
       "      <td>1949.70</td>\n",
       "      <td>10.4525</td>\n",
       "      <td>20.45</td>\n",
       "      <td>59000</td>\n",
       "      <td>Diesel</td>\n",
       "      <td>Dealer</td>\n",
       "      <td>Manual</td>\n",
       "      <td>0</td>\n",
       "    </tr>\n",
       "    <tr>\n",
       "      <th>149</th>\n",
       "      <td>1955.52</td>\n",
       "      <td>0.5763</td>\n",
       "      <td>0.94</td>\n",
       "      <td>24000</td>\n",
       "      <td>Petrol</td>\n",
       "      <td>Individual</td>\n",
       "      <td>Manual</td>\n",
       "      <td>0</td>\n",
       "    </tr>\n",
       "    <tr>\n",
       "      <th>92</th>\n",
       "      <td>1944.85</td>\n",
       "      <td>3.9663</td>\n",
       "      <td>13.70</td>\n",
       "      <td>75000</td>\n",
       "      <td>Petrol</td>\n",
       "      <td>Dealer</td>\n",
       "      <td>Manual</td>\n",
       "      <td>0</td>\n",
       "    </tr>\n",
       "    <tr>\n",
       "      <th>115</th>\n",
       "      <td>1954.55</td>\n",
       "      <td>1.2543</td>\n",
       "      <td>1.47</td>\n",
       "      <td>17500</td>\n",
       "      <td>Petrol</td>\n",
       "      <td>Individual</td>\n",
       "      <td>Manual</td>\n",
       "      <td>0</td>\n",
       "    </tr>\n",
       "  </tbody>\n",
       "</table>\n",
       "</div>"
      ],
      "text/plain": [
       "        Year  Selling_Price  Present_Price  Kms_Driven Fuel_Type Seller_Type  \\\n",
       "183  1952.61         0.3051           0.47       21000    Petrol  Individual   \n",
       "67   1949.70        10.4525          20.45       59000    Diesel      Dealer   \n",
       "149  1955.52         0.5763           0.94       24000    Petrol  Individual   \n",
       "92   1944.85         3.9663          13.70       75000    Petrol      Dealer   \n",
       "115  1954.55         1.2543           1.47       17500    Petrol  Individual   \n",
       "\n",
       "    Transmission  Owner  \n",
       "183       Manual      0  \n",
       "67        Manual      0  \n",
       "149       Manual      0  \n",
       "92        Manual      0  \n",
       "115       Manual      0  "
      ]
     },
     "execution_count": 7,
     "metadata": {},
     "output_type": "execute_result"
    }
   ],
   "source": [
    "dataframe = customize_dataset(dataframe_raw, your_name)\n",
    "dataframe.head()"
   ]
  },
  {
   "cell_type": "markdown",
   "metadata": {},
   "source": [
    "In the function above as we see it, needs a word to use as a random string to sort data randomly. I used my name as a random string. \n",
    "\n",
    "After that we can use the custom dataset. For simplicity we can create variables containing the number of rows, columns and variables containing the numeric, categorical or output columns:"
   ]
  },
  {
   "cell_type": "code",
   "execution_count": 8,
   "metadata": {},
   "outputs": [],
   "source": [
    "input_cols = [\"Year\",\"Present_Price\",\"Kms_Driven\",\"Owner\"]\n",
    "categorical_cols = [\"Fuel_Type\",\"Seller_Type\",\"Transmission\"]\n",
    "output_cols = [\"Selling_Price\"]"
   ]
  },
  {
   "cell_type": "markdown",
   "metadata": {},
   "source": [
    "### Data Preparation\n",
    "\n",
    "As stated at the beginning, we will be using PyTorch to predict car prices using machine learning. To use data for training, we need to convert it from dataframe to PyTorch Tensors."
   ]
  },
  {
   "cell_type": "code",
   "execution_count": 9,
   "metadata": {},
   "outputs": [],
   "source": [
    "# First step is to convert dataframe to NumPy arrays:\n",
    "def dataframe_to_arrays(dataframe):\n",
    "    # Make a copy of the original dataframe\n",
    "    dataframe1 = dataframe.copy(deep=True)\n",
    "    # Convert non-numeric categorical columns to numbers\n",
    "    for col in categorical_cols:\n",
    "        dataframe1[col] = dataframe1[col].astype('category').cat.codes\n",
    "    # Extract input & outupts as numpy arrays\n",
    "    inputs_array = dataframe1[input_cols].to_numpy()\n",
    "    targets_array = dataframe1[output_cols].to_numpy()\n",
    "    return inputs_array, targets_array"
   ]
  },
  {
   "cell_type": "code",
   "execution_count": 11,
   "metadata": {},
   "outputs": [],
   "source": [
    "inputs_array, targets_array = dataframe_to_arrays(dataframe)"
   ]
  },
  {
   "cell_type": "code",
   "execution_count": 12,
   "metadata": {},
   "outputs": [
    {
     "data": {
      "text/plain": [
       "(array([[1.95261e+03, 4.70000e-01, 2.10000e+04, 0.00000e+00],\n",
       "        [1.94970e+03, 2.04500e+01, 5.90000e+04, 0.00000e+00],\n",
       "        [1.95552e+03, 9.40000e-01, 2.40000e+04, 0.00000e+00],\n",
       "        ...,\n",
       "        [1.95552e+03, 1.36000e+01, 1.09800e+04, 0.00000e+00],\n",
       "        [1.95261e+03, 1.50000e+00, 1.50000e+04, 0.00000e+00],\n",
       "        [1.95261e+03, 9.90000e+00, 5.42420e+04, 0.00000e+00]]),\n",
       " array([[ 0.3051],\n",
       "        [10.4525],\n",
       "        [ 0.5763],\n",
       "        [ 3.9663],\n",
       "        [ 1.2543],\n",
       "        [19.21  ],\n",
       "        [ 0.226 ],\n",
       "        [ 5.085 ],\n",
       "        [20.34  ],\n",
       "        [ 3.6725],\n",
       "        [ 7.9665],\n",
       "        [ 6.893 ],\n",
       "        [ 0.452 ],\n",
       "        [ 1.4125],\n",
       "        [ 0.678 ],\n",
       "        [ 8.475 ],\n",
       "        [ 1.2995],\n",
       "        [ 8.362 ],\n",
       "        [ 4.294 ],\n",
       "        [ 9.6615],\n",
       "        [37.29  ],\n",
       "        [ 4.633 ],\n",
       "        [16.6449],\n",
       "        [ 2.5425],\n",
       "        [ 9.8875],\n",
       "        [ 1.6385],\n",
       "        [ 0.4294],\n",
       "        [16.1025],\n",
       "        [ 5.537 ],\n",
       "        [ 6.4975],\n",
       "        [ 3.5595],\n",
       "        [ 3.503 ],\n",
       "        [ 1.1865],\n",
       "        [ 0.226 ],\n",
       "        [ 0.5085],\n",
       "        [ 3.39  ],\n",
       "        [ 5.3675],\n",
       "        [ 0.5085],\n",
       "        [ 1.5255],\n",
       "        [ 1.356 ],\n",
       "        [ 9.4355],\n",
       "        [ 0.5424],\n",
       "        [ 3.2205],\n",
       "        [ 5.9325],\n",
       "        [ 0.5424],\n",
       "        [ 1.921 ],\n",
       "        [ 1.9775],\n",
       "        [ 4.52  ],\n",
       "        [ 4.2375],\n",
       "        [ 0.3955],\n",
       "        [ 0.5085],\n",
       "        [ 0.339 ],\n",
       "        [ 3.1075],\n",
       "        [ 4.972 ],\n",
       "        [25.99  ],\n",
       "        [ 6.78  ],\n",
       "        [ 8.475 ],\n",
       "        [ 4.6895],\n",
       "        [ 0.5085],\n",
       "        [ 8.475 ],\n",
       "        [25.99  ],\n",
       "        [ 0.6215],\n",
       "        [ 7.232 ],\n",
       "        [23.4475],\n",
       "        [ 0.678 ],\n",
       "        [22.3175],\n",
       "        [ 0.565 ],\n",
       "        [12.995 ],\n",
       "        [ 5.085 ],\n",
       "        [ 5.9325],\n",
       "        [ 4.52  ],\n",
       "        [ 5.3675],\n",
       "        [ 5.8195],\n",
       "        [ 0.8475],\n",
       "        [10.3395],\n",
       "        [ 2.8815],\n",
       "        [ 0.565 ],\n",
       "        [ 0.3503],\n",
       "        [ 5.3675],\n",
       "        [ 0.4746],\n",
       "        [ 1.13  ],\n",
       "        [ 0.6215],\n",
       "        [ 1.2995],\n",
       "        [ 3.39  ],\n",
       "        [ 4.1245],\n",
       "        [ 8.136 ],\n",
       "        [16.385 ],\n",
       "        [ 1.243 ],\n",
       "        [18.08  ],\n",
       "        [ 3.1075],\n",
       "        [ 1.2995],\n",
       "        [ 6.0455],\n",
       "        [ 0.2825],\n",
       "        [ 5.9325],\n",
       "        [ 0.678 ],\n",
       "        [ 5.9325],\n",
       "        [ 4.9155],\n",
       "        [ 1.017 ],\n",
       "        [ 0.1356],\n",
       "        [ 0.8475],\n",
       "        [ 7.7405],\n",
       "        [ 4.52  ],\n",
       "        [ 8.4185],\n",
       "        [ 0.339 ],\n",
       "        [ 0.8136],\n",
       "        [11.5825],\n",
       "        [10.283 ],\n",
       "        [ 0.678 ],\n",
       "        [ 2.825 ],\n",
       "        [ 5.085 ],\n",
       "        [ 0.226 ],\n",
       "        [ 9.605 ],\n",
       "        [ 5.3675],\n",
       "        [ 3.8985],\n",
       "        [ 1.2995],\n",
       "        [ 0.5424],\n",
       "        [ 5.5935],\n",
       "        [ 0.1695],\n",
       "        [ 3.277 ],\n",
       "        [ 1.1865],\n",
       "        [ 3.955 ],\n",
       "        [ 2.2035],\n",
       "        [ 8.7575],\n",
       "        [ 9.492 ],\n",
       "        [ 3.277 ],\n",
       "        [ 0.7345],\n",
       "        [ 6.9495],\n",
       "        [ 1.017 ],\n",
       "        [ 2.9945],\n",
       "        [10.4525],\n",
       "        [ 3.39  ],\n",
       "        [ 7.345 ],\n",
       "        [ 0.8475],\n",
       "        [ 0.7345],\n",
       "        [ 2.26  ],\n",
       "        [ 4.972 ],\n",
       "        [ 7.458 ],\n",
       "        [ 0.565 ],\n",
       "        [ 0.5085],\n",
       "        [ 0.452 ],\n",
       "        [ 6.215 ],\n",
       "        [ 4.4635],\n",
       "        [ 3.2205],\n",
       "        [ 0.452 ],\n",
       "        [ 0.3955],\n",
       "        [22.5887],\n",
       "        [ 3.955 ],\n",
       "        [ 5.424 ],\n",
       "        [10.961 ],\n",
       "        [ 9.3225],\n",
       "        [ 0.678 ],\n",
       "        [ 1.1865],\n",
       "        [ 4.972 ],\n",
       "        [ 0.3955],\n",
       "        [ 8.1925],\n",
       "        [ 0.3955],\n",
       "        [ 8.7575],\n",
       "        [ 1.1865],\n",
       "        [12.9385],\n",
       "        [ 2.8815],\n",
       "        [ 0.2034],\n",
       "        [ 0.7345],\n",
       "        [ 6.7235],\n",
       "        [ 1.0735],\n",
       "        [ 0.2825],\n",
       "        [ 6.3845],\n",
       "        [ 5.5935],\n",
       "        [16.837 ],\n",
       "        [ 2.825 ],\n",
       "        [ 6.78  ],\n",
       "        [12.7125],\n",
       "        [ 3.503 ],\n",
       "        [ 0.5876],\n",
       "        [ 3.051 ],\n",
       "        [ 6.215 ],\n",
       "        [ 2.5425],\n",
       "        [ 3.39  ],\n",
       "        [12.7125],\n",
       "        [ 6.102 ],\n",
       "        [ 6.215 ],\n",
       "        [ 6.667 ],\n",
       "        [ 1.5255],\n",
       "        [ 6.78  ],\n",
       "        [ 0.8814],\n",
       "        [ 5.4805],\n",
       "        [ 5.3675],\n",
       "        [ 7.2885],\n",
       "        [ 2.9945],\n",
       "        [ 3.2205],\n",
       "        [ 8.927 ],\n",
       "        [ 1.243 ],\n",
       "        [ 0.5424],\n",
       "        [ 0.8475],\n",
       "        [ 4.52  ],\n",
       "        [ 0.2825],\n",
       "        [ 0.226 ],\n",
       "        [21.1875],\n",
       "        [ 1.695 ],\n",
       "        [ 0.1808],\n",
       "        [ 7.571 ],\n",
       "        [14.577 ],\n",
       "        [ 3.7855],\n",
       "        [ 5.085 ],\n",
       "        [ 3.3335],\n",
       "        [ 4.2375],\n",
       "        [13.2775],\n",
       "        [ 0.226 ],\n",
       "        [ 7.0625],\n",
       "        [10.1587],\n",
       "        [ 3.3335],\n",
       "        [14.125 ],\n",
       "        [ 6.215 ],\n",
       "        [ 2.373 ],\n",
       "        [ 3.7855],\n",
       "        [ 0.2825],\n",
       "        [ 4.407 ],\n",
       "        [ 6.7235],\n",
       "        [ 8.1925],\n",
       "        [ 5.989 ],\n",
       "        [ 0.1921],\n",
       "        [ 0.678 ],\n",
       "        [ 5.085 ],\n",
       "        [39.55  ],\n",
       "        [ 6.4975],\n",
       "        [ 5.989 ],\n",
       "        [ 6.6105],\n",
       "        [ 6.102 ],\n",
       "        [10.9045],\n",
       "        [ 0.904 ],\n",
       "        [ 5.198 ],\n",
       "        [ 3.503 ],\n",
       "        [ 4.068 ],\n",
       "        [ 0.452 ],\n",
       "        [25.99  ],\n",
       "        [ 8.7575],\n",
       "        [ 4.407 ],\n",
       "        [ 0.226 ],\n",
       "        [ 0.565 ],\n",
       "        [ 3.9437],\n",
       "        [ 3.6725],\n",
       "        [ 6.215 ],\n",
       "        [ 0.452 ],\n",
       "        [10.735 ],\n",
       "        [ 5.085 ],\n",
       "        [10.4525],\n",
       "        [ 9.492 ],\n",
       "        [ 5.537 ],\n",
       "        [ 0.339 ],\n",
       "        [ 2.5425],\n",
       "        [ 5.2545],\n",
       "        [ 0.678 ],\n",
       "        [ 5.876 ],\n",
       "        [ 1.356 ],\n",
       "        [ 0.565 ],\n",
       "        [ 5.424 ],\n",
       "        [ 6.78  ],\n",
       "        [26.555 ],\n",
       "        [ 4.52  ],\n",
       "        [ 9.3225],\n",
       "        [ 4.4635],\n",
       "        [12.7125],\n",
       "        [ 0.4746],\n",
       "        [ 0.5085],\n",
       "        [ 5.9325],\n",
       "        [ 3.503 ],\n",
       "        [ 1.8645],\n",
       "        [ 3.277 ],\n",
       "        [ 7.345 ],\n",
       "        [ 6.554 ],\n",
       "        [ 4.633 ],\n",
       "        [ 2.6555],\n",
       "        [ 0.5085],\n",
       "        [ 7.0625],\n",
       "        [ 1.1865],\n",
       "        [ 0.4294],\n",
       "        [ 0.7345],\n",
       "        [ 2.9945],\n",
       "        [ 5.9325],\n",
       "        [ 5.3675],\n",
       "        [ 3.6725],\n",
       "        [ 9.7745],\n",
       "        [ 1.5255],\n",
       "        [11.4243],\n",
       "        [ 1.4125],\n",
       "        [ 5.9325]]))"
      ]
     },
     "execution_count": 12,
     "metadata": {},
     "output_type": "execute_result"
    }
   ],
   "source": [
    "inputs_array, targets_array"
   ]
  },
  {
   "cell_type": "markdown",
   "metadata": {},
   "source": [
    "The above function converts the input and output columns to NumPy arrays. Now having these arrays, we can convert them to PyTorch tensors, and use those tensors to create a variable dataset that contains them:"
   ]
  },
  {
   "cell_type": "code",
   "execution_count": 13,
   "metadata": {},
   "outputs": [],
   "source": [
    "inputs = torch.Tensor(inputs_array)\n",
    "targets = torch.Tensor(targets_array)"
   ]
  },
  {
   "cell_type": "code",
   "execution_count": 14,
   "metadata": {},
   "outputs": [],
   "source": [
    "dataset = TensorDataset(inputs, targets)\n",
    "train_ds, val_ds = random_split(dataset, [228, 57])"
   ]
  },
  {
   "cell_type": "code",
   "execution_count": 15,
   "metadata": {},
   "outputs": [],
   "source": [
    "batch_size = 128\n",
    "\n",
    "train_loader = DataLoader(train_ds, batch_size, shuffle=True)\n",
    "val_loader = DataLoader(val_ds, batch_size)"
   ]
  },
  {
   "cell_type": "code",
   "execution_count": 16,
   "metadata": {},
   "outputs": [],
   "source": [
    "# creating linear regressing model using PyTorch to predict car prices:\n",
    "\n",
    "input_size = len(input_cols)\n",
    "output_size = len(output_cols)\n",
    "\n",
    "class CarsModel(nn.Module):\n",
    "    def __init__(self):\n",
    "        super().__init__()\n",
    "        self.linear = nn.Linear(input_size, output_size)\n",
    "        \n",
    "    def forward(self, xb):\n",
    "        out = self.linear(xb)                          \n",
    "        return out\n",
    "    \n",
    "    def training_step(self, batch):\n",
    "        inputs, targets = batch \n",
    "        # Generate predictions\n",
    "        out = self(inputs)          \n",
    "        # Calcuate loss\n",
    "        loss = F.l1_loss(out, targets)                         \n",
    "        return loss\n",
    "    \n",
    "    def validation_step(self, batch):\n",
    "        inputs, targets = batch\n",
    "        # Generate predictions\n",
    "        out = self(inputs)\n",
    "        # Calculate loss\n",
    "        loss = F.l1_loss(out, targets)                           \n",
    "        return {'val_loss': loss.detach()}\n",
    "        \n",
    "    def validation_epoch_end(self, outputs):\n",
    "        batch_losses = [x['val_loss'] for x in outputs]\n",
    "        epoch_loss = torch.stack(batch_losses).mean()   # Combine losses\n",
    "        return {'val_loss': epoch_loss.item()}\n",
    "    \n",
    "    def epoch_end(self, epoch, result, num_epochs):\n",
    "        # Print result every 20th epoch\n",
    "        if (epoch+1) % 20 == 0 or epoch == num_epochs-1:\n",
    "            print(\"Epoch [{}], val_loss: {:.4f}\".format(epoch+1, result['val_loss']))"
   ]
  },
  {
   "cell_type": "code",
   "execution_count": 17,
   "metadata": {},
   "outputs": [
    {
     "data": {
      "text/plain": [
       "[Parameter containing:\n",
       " tensor([[-0.1670, -0.1796,  0.2362,  0.1503]], requires_grad=True),\n",
       " Parameter containing:\n",
       " tensor([-0.4753], requires_grad=True)]"
      ]
     },
     "execution_count": 17,
     "metadata": {},
     "output_type": "execute_result"
    }
   ],
   "source": [
    "model = CarsModel()\n",
    "\n",
    "list(model.parameters())"
   ]
  },
  {
   "cell_type": "markdown",
   "metadata": {},
   "source": [
    "In this above function, we used the `nn.Linear` function which will allow us to use linear regression. \n",
    "\n",
    "Now we can make predictions and calculatethe loss with the `F.l1_loss` function. We can also see the weight parameters and bias. "
   ]
  },
  {
   "cell_type": "code",
   "execution_count": 18,
   "metadata": {},
   "outputs": [],
   "source": [
    "# Eval algorithm\n",
    "def evaluate(model, val_loader):\n",
    "    outputs = [model.validation_step(batch) for batch in val_loader]\n",
    "    return model.validation_epoch_end(outputs)"
   ]
  },
  {
   "cell_type": "code",
   "execution_count": 19,
   "metadata": {},
   "outputs": [],
   "source": [
    "# Fitting algorithm\n",
    "def fit(epochs, lr, model, train_loader, val_loader, opt_func=torch.optim.SGD):\n",
    "    history = []\n",
    "    optimizer = opt_func(model.parameters(), lr)\n",
    "    for epoch in range(epochs):\n",
    "        # Training Phase \n",
    "        for batch in train_loader:\n",
    "            loss = model.training_step(batch)\n",
    "            loss.backward()\n",
    "            optimizer.step()\n",
    "            optimizer.zero_grad()\n",
    "        # Validation phase\n",
    "        result = evaluate(model, val_loader)\n",
    "        model.epoch_end(epoch, result, epochs)\n",
    "        history.append(result)\n",
    "    return history"
   ]
  },
  {
   "cell_type": "code",
   "execution_count": 20,
   "metadata": {},
   "outputs": [
    {
     "name": "stdout",
     "output_type": "stream",
     "text": [
      "{'val_loss': 7891.85205078125}\n"
     ]
    }
   ],
   "source": [
    "# Check the initial value that val_loss have\n",
    "result = evaluate(model, val_loader)\n",
    "print(result)"
   ]
  },
  {
   "cell_type": "code",
   "execution_count": 21,
   "metadata": {},
   "outputs": [
    {
     "name": "stderr",
     "output_type": "stream",
     "text": [
      "C:\\ProgramData\\Anaconda3\\lib\\site-packages\\torch\\autograd\\__init__.py:132: UserWarning: CUDA initialization: Found no NVIDIA driver on your system. Please check that you have an NVIDIA GPU and installed a driver from http://www.nvidia.com/Download/index.aspx (Triggered internally at  ..\\c10\\cuda\\CUDAFunctions.cpp:100.)\n",
      "  allow_unreachable=True)  # allow_unreachable flag\n"
     ]
    },
    {
     "name": "stdout",
     "output_type": "stream",
     "text": [
      "Epoch [20], val_loss: 7371.2520\n",
      "Epoch [40], val_loss: 6849.9141\n",
      "Epoch [60], val_loss: 6328.8125\n",
      "Epoch [80], val_loss: 5807.2832\n",
      "Epoch [90], val_loss: 5547.7808\n"
     ]
    }
   ],
   "source": [
    "# Start with the Fitting\n",
    "epochs = 90\n",
    "lr = 1e-8\n",
    "history1 = fit(epochs, lr, model, train_loader, val_loader)"
   ]
  },
  {
   "cell_type": "markdown",
   "metadata": {},
   "source": [
    "As we can see, **evaluation** and **fit** functions are used to do training. We use optimization functions (in this case specifically SGD optimization) using **train loader** to calculate the loss & gradients and to optimize it afterwards & evaluate the result of each iteration to see the loss."
   ]
  },
  {
   "cell_type": "markdown",
   "metadata": {},
   "source": [
    "Finally, we need to test the model with specific data, to predict."
   ]
  },
  {
   "cell_type": "code",
   "execution_count": 22,
   "metadata": {},
   "outputs": [],
   "source": [
    "# Prediction Algorithm\n",
    "def predict_single(input, target, model):\n",
    "    inputs = input.unsqueeze(0)\n",
    "    predictions = model(inputs)                \n",
    "    prediction = predictions[0].detach()\n",
    "    print(\"Input:\", input)\n",
    "    print(\"Target:\", target)\n",
    "    print(\"Prediction:\", prediction)"
   ]
  },
  {
   "cell_type": "code",
   "execution_count": 23,
   "metadata": {},
   "outputs": [
    {
     "name": "stdout",
     "output_type": "stream",
     "text": [
      "Input: tensor([1.9516e+03, 9.4000e+00, 3.6100e+04, 0.0000e+00])\n",
      "Target: tensor([5.0850])\n",
      "Prediction: tensor([5760.4648])\n"
     ]
    }
   ],
   "source": [
    "# Testing the model with some samples\n",
    "input, target = val_ds[0]\n",
    "predict_single(input, target, model)"
   ]
  },
  {
   "cell_type": "markdown",
   "metadata": {},
   "source": [
    "As we can see, the predictions are not very close to the expected target. With this we can test different results and see how good the model is:"
   ]
  },
  {
   "cell_type": "code",
   "execution_count": 24,
   "metadata": {},
   "outputs": [
    {
     "name": "stdout",
     "output_type": "stream",
     "text": [
      "Input: tensor([1.9497e+03, 7.9800e+00, 4.1442e+04, 0.0000e+00])\n",
      "Target: tensor([2.9945])\n",
      "Prediction: tensor([6663.0059])\n"
     ]
    }
   ],
   "source": [
    "input, target = val_ds[10]\n",
    "predict_single(input, target, model)"
   ]
  },
  {
   "cell_type": "code",
   "execution_count": null,
   "metadata": {},
   "outputs": [],
   "source": []
  }
 ],
 "metadata": {
  "kernelspec": {
   "display_name": "Python 3",
   "language": "python",
   "name": "python3"
  },
  "language_info": {
   "codemirror_mode": {
    "name": "ipython",
    "version": 3
   },
   "file_extension": ".py",
   "mimetype": "text/x-python",
   "name": "python",
   "nbconvert_exporter": "python",
   "pygments_lexer": "ipython3",
   "version": "3.7.6"
  }
 },
 "nbformat": 4,
 "nbformat_minor": 4
}

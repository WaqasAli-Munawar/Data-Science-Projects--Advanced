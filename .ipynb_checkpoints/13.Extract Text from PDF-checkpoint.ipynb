{
 "cells": [
  {
   "cell_type": "markdown",
   "metadata": {},
   "source": [
    "In this file, we will go through how we can extract text from PDF files. \n",
    "* To extract text from a PDF is not an easy task. There is lot to do here. But for some help, we will use Python package known as [pdf2image](https://pypi.org/project/pdf2image/), which can be easily installed by using the `pip` command; `pip install pdf2image`."
   ]
  },
  {
   "cell_type": "markdown",
   "metadata": {},
   "source": [
    "The biggest challenge we face while we extract text from PDF file is, PDF files come in different file formats. So first we need to prepare a function so that we can convert every format of a PDF file into our desired one.\n",
    "\n",
    "Let’s start by importing all the packages. \n",
    "* We need `pdf2image` to convert **PDF files to ppm image files**.\n",
    "* We also need to manipulate the paths to join and rename text files, so we import `os` and `sys` packages. \n",
    "\n",
    "The following part calls a `PIL` library and imports the image with `pytesseract`:"
   ]
  },
  {
   "cell_type": "code",
   "execution_count": 11,
   "metadata": {},
   "outputs": [],
   "source": [
    "# !pip install pdf2image\n",
    "# !pip install pytesseract"
   ]
  },
  {
   "cell_type": "markdown",
   "metadata": {},
   "source": [
    "* Downlaod **poppler binary** from [here](http://blog.alivate.com.au/poppler-windows/), execute all the files in bin folder and set the environment path\n",
    "* Downlaod and install tesseract from [here](https://github.com/UB-Mannheim/tesseract/wiki)"
   ]
  },
  {
   "cell_type": "code",
   "execution_count": 12,
   "metadata": {},
   "outputs": [],
   "source": [
    "#Import all packages\n",
    "\n",
    "import pdf2image\n",
    "import os, sys\n",
    "try:\n",
    "    from PIL import Image\n",
    "except ImportError:\n",
    "    import Image\n",
    "import pytesseract\n",
    "\n",
    "#import docxpy  - we can use this package when you are extracting text from word files"
   ]
  },
  {
   "cell_type": "markdown",
   "metadata": {},
   "source": [
    "Now we need to initialize the path of our documents and the counter to be used later in the pdf extract function to count our documents in the folder:"
   ]
  },
  {
   "cell_type": "code",
   "execution_count": 13,
   "metadata": {},
   "outputs": [],
   "source": [
    "#initialize the path to your documents\n",
    "\n",
    "# PATH = 'C:\\Waqas Documents\\Waqas\\W.A\\Programming\\Data Sciecnce\\With Python\\Aman Kharwal\\Data Science Projects -Advanced'\n",
    "\n",
    "PATH = './pdf/'\n",
    "\n",
    "#initialize the counter that we will use later in our pdf extraction function\n",
    "i = 1"
   ]
  },
  {
   "cell_type": "markdown",
   "metadata": {},
   "source": [
    "Now, we need to delete some unrequired files from our pdf files, for this we will create a new function:"
   ]
  },
  {
   "cell_type": "code",
   "execution_count": 14,
   "metadata": {},
   "outputs": [],
   "source": [
    "# This function deletes all ppm and .DS_Store files from the folder\n",
    "def delete_ppms():\n",
    "  for file in os.listdir(PATH):\n",
    "    if '.ppm' in file or '.DS_Store' in file:\n",
    "      try:\n",
    "          os.remove(PATH + file)\n",
    "      except FileNotFoundError:\n",
    "          pass"
   ]
  },
  {
   "cell_type": "markdown",
   "metadata": {},
   "source": [
    "Now we need to sort the pdf files according to their types. We will start this by creating lists one for pdf files and one for Docx files because these two types are the most used pdf file types:"
   ]
  },
  {
   "cell_type": "code",
   "execution_count": 15,
   "metadata": {},
   "outputs": [],
   "source": [
    "# initialize lists for each document type\n",
    "pdf_files = []\n",
    "docx_files = []\n",
    "\n",
    "# append document names into the lists by their extension type\n",
    "for f in os.listdir(PATH):\n",
    "  full_name = os.path.join(PATH, f) \n",
    "  if os.path.isfile(full_name):\n",
    "    name = os.path.basename(f)\n",
    "    filename, ext = os.path.splitext(name)\n",
    "    if ext == '.pdf':\n",
    "      pdf_files.append(name)\n",
    "    elif ext == ('.docx'):\n",
    "      docx_files.append(name)"
   ]
  },
  {
   "cell_type": "code",
   "execution_count": 16,
   "metadata": {},
   "outputs": [
    {
     "name": "stdout",
     "output_type": "stream",
     "text": [
      "['sample.pdf'] []\n"
     ]
    }
   ],
   "source": [
    "print(pdf_files, docx_files)"
   ]
  },
  {
   "cell_type": "markdown",
   "metadata": {},
   "source": [
    "Now we can finally extract text from PDF files. Here is the `pdf_extract` function. \n",
    "* First, it prints the name of each file from which the text is extracted. \n",
    "* Depending on the size of the document, extracting text may take some time."
   ]
  },
  {
   "cell_type": "code",
   "execution_count": 17,
   "metadata": {},
   "outputs": [],
   "source": [
    "# This function converts pdf to images and then extracts text from images\n",
    "def pdf_extract(file, i):\n",
    "  print(\"extracting from file:\", file)\n",
    "  delete_ppms()\n",
    "  images = pdf2image.convert_from_path(file, output_folder=PATH) # it will return a list\n",
    "  for im in images:\n",
    "        im.close() # to close file\n",
    "  j = 0\n",
    "  for file in sorted (os.listdir(PATH)):\n",
    "      if '.ppm' in file and 'image' not in file:\n",
    "        os.rename(PATH + file, PATH + 'image' + str(i) + '-' + str(j) + '.ppm')\n",
    "        j += 1\n",
    "  j = 0\n",
    "  f = open(PATH +'result{}.txt'.format(i), 'w')\n",
    "  files = [f for f in os.listdir(PATH) if '.ppm' in f]\n",
    "\n",
    "  for file in sorted(files, key=lambda x: int(x[x.index('-') + 1: x.index('.')])):\n",
    "      pytesseract.pytesseract.tesseract_cmd = r'C:\\Users\\Waqas.Ali\\AppData\\Local\\Programs\\Tesseract-OCR\\tesseract.exe'\n",
    "      temp = pytesseract.image_to_string(Image.open(PATH + file))\n",
    "      f.write(temp)\n",
    "  f.close()"
   ]
  },
  {
   "cell_type": "markdown",
   "metadata": {},
   "source": [
    "Now, we can use our function to extract text from all the PDF files using Python:"
   ]
  },
  {
   "cell_type": "code",
   "execution_count": 18,
   "metadata": {},
   "outputs": [
    {
     "name": "stdout",
     "output_type": "stream",
     "text": [
      "extracting from file: sample.pdf\n"
     ]
    }
   ],
   "source": [
    "# Run for-loop for each document in range of pdf_files list\n",
    "for i in range(len(pdf_files)):\n",
    "  pdf_file = pdf_files[i]\n",
    "  pdf_extract(pdf_file, i)"
   ]
  },
  {
   "cell_type": "markdown",
   "metadata": {},
   "source": [
    "Now after running the function if we will go to the directory we will see a text file by the name of `result1.txt` with all the text extracted from the PDF file."
   ]
  },
  {
   "cell_type": "code",
   "execution_count": null,
   "metadata": {},
   "outputs": [],
   "source": []
  }
 ],
 "metadata": {
  "kernelspec": {
   "display_name": "Python 3",
   "language": "python",
   "name": "python3"
  },
  "language_info": {
   "codemirror_mode": {
    "name": "ipython",
    "version": 3
   },
   "file_extension": ".py",
   "mimetype": "text/x-python",
   "name": "python",
   "nbconvert_exporter": "python",
   "pygments_lexer": "ipython3",
   "version": "3.7.6"
  }
 },
 "nbformat": 4,
 "nbformat_minor": 4
}

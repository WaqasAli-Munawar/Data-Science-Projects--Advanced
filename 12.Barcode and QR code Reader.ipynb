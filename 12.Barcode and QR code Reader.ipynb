{
 "cells": [
  {
   "cell_type": "markdown",
   "metadata": {},
   "source": [
    "In this file, we will go through how to make a barcode and Qr code reader. This is a great machine learning task to get started with computer vision.\n",
    "\n",
    "Barcodes and QR codes are very cool and interesting because they store information in a different format. \n",
    "* The fun part is that we can’t tell what they are storing until we analyze them. It’s like playing a puzzle game. \n",
    "* Another thing to love about them is that they can be part of the physical world and still connect us to the internet world."
   ]
  },
  {
   "cell_type": "markdown",
   "metadata": {},
   "source": [
    "The first step is to install the following three libraries: \n",
    "1. Pillow, \n",
    "2. OpenCV and \n",
    "3. Pyzbar. \n",
    "\n",
    "* `Pillow` is the extension of **PIL**, which stands for **Python Image Library**.\n",
    "* `OpenCV` is a well-known library, especially when working with computer vision tasks. \n",
    "* `Pyzbar`, a python library that will help us read barcode and QR codes. \n",
    "\n",
    "We can easily install all the libraries using the `pip` command."
   ]
  },
  {
   "cell_type": "markdown",
   "metadata": {},
   "source": [
    "Now the next step is to write the **decode** function, where most of the cool stuff will happen. The decode function will mainly do three things and can be listed as follows:\n",
    "\n",
    "* Recognize and decode the barcode / QR code that we are going to show to the camera.\n",
    "* Added information stored as text on recognized barcode / QR code.\n",
    "* And finally, export the stored information as a text document."
   ]
  },
  {
   "cell_type": "code",
   "execution_count": 2,
   "metadata": {},
   "outputs": [
    {
     "name": "stdout",
     "output_type": "stream",
     "text": [
      "Collecting pyzbar\n",
      "  Downloading pyzbar-0.1.8-py2.py3-none-win_amd64.whl (813 kB)\n",
      "Installing collected packages: pyzbar\n",
      "Successfully installed pyzbar-0.1.8\n"
     ]
    }
   ],
   "source": [
    "! pip install pyzbar"
   ]
  },
  {
   "cell_type": "code",
   "execution_count": 3,
   "metadata": {},
   "outputs": [],
   "source": [
    "import cv2\n",
    "from pyzbar import pyzbar"
   ]
  },
  {
   "cell_type": "code",
   "execution_count": 4,
   "metadata": {},
   "outputs": [],
   "source": [
    "def read_barcodes(frame):\n",
    "    barcodes = pyzbar.decode(frame)\n",
    "    for barcode in barcodes:\n",
    "        x, y , w, h = barcode.rect\n",
    "        barcode_info = barcode.data.decode('utf-8')\n",
    "        cv2.rectangle(frame, (x, y),(x+w, y+h), (0, 255, 0), 2)\n",
    "        \n",
    "        font = cv2.FONT_HERSHEY_DUPLEX\n",
    "        cv2.putText(frame, barcode_info, (x + 6, y - 6), font, 2.0, (255, 255, 255), 1)\n",
    "        with open(\"barcode_result.txt\", mode ='w') as file:\n",
    "            file.write(\"Recognized Barcode:\" + barcode_info)\n",
    "    return frame"
   ]
  },
  {
   "cell_type": "markdown",
   "metadata": {},
   "source": [
    "Now let’s go through the above function to understand what we did:\n",
    "\n",
    "* First, we decode the barcode or QR code information. And then draw a rectangle around it. It helps us to see if our machine detected the barcode / Qr code.\n",
    "* Second, we add text above the rectangle that has been created. The text will display the decoded information.\n",
    "* Third, we export the information to a text document.\n",
    "\n",
    "Now the next step is to write the main function for building a Barcode and QR code reader."
   ]
  },
  {
   "cell_type": "code",
   "execution_count": 6,
   "metadata": {},
   "outputs": [],
   "source": [
    "def main():\n",
    "    camera = cv2.VideoCapture(0)\n",
    "    ret, frame = camera.read()\n",
    "    while ret:\n",
    "        ret, frame = camera.read()\n",
    "        frame = read_barcodes(frame)\n",
    "        cv2.imshow('Barcode/QR code reader', frame)\n",
    "        if cv2.waitKey(1) & 0xFF == 27:\n",
    "            break\n",
    "    camera.release()\n",
    "    cv2.destroyAllWindows()\n",
    "\n",
    "if __name__ == '__main__':\n",
    "    main()"
   ]
  },
  {
   "cell_type": "markdown",
   "metadata": {},
   "source": [
    "Now let’s go through the main function above to understand what we did:\n",
    "\n",
    "* First of all, we turn on the computer camera using OpenCV. If we have an external camera, we need to change the value `0` to `1` depending on the device.\n",
    "* Second, we run a while loop to continue performing the decode function until the **Esc** key is pressed. Otherwise, the loop will not stop and cause problems.\n",
    "* Third, we launch the camera that we turned on in the first step. And then we close the application window. `OpenCV` does all the work, just call the methods.\n",
    "* Finally, we call the main function to trigger the program.\n",
    "\n",
    "Now we can easily run the code and scan any barcode and QR code by showing the code to the camera of our laptop.\n",
    "\n",
    "We have created a program that reads barcodes and QR codes for us. Now we have an idea of how to use computer vision and artificial intelligence in real life. Working on hands-on programming projects like this is the best way to sharpen our coding skills."
   ]
  },
  {
   "cell_type": "code",
   "execution_count": null,
   "metadata": {},
   "outputs": [],
   "source": []
  }
 ],
 "metadata": {
  "kernelspec": {
   "display_name": "Python 3",
   "language": "python",
   "name": "python3"
  },
  "language_info": {
   "codemirror_mode": {
    "name": "ipython",
    "version": 3
   },
   "file_extension": ".py",
   "mimetype": "text/x-python",
   "name": "python",
   "nbconvert_exporter": "python",
   "pygments_lexer": "ipython3",
   "version": "3.7.6"
  }
 },
 "nbformat": 4,
 "nbformat_minor": 4
}

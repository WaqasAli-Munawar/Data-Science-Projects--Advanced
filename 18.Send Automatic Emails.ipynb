{
 "cells": [
  {
   "cell_type": "markdown",
   "metadata": {},
   "source": [
    "Every time we register on a new app, we automatically receive a welcome message with our name on it. If we want to learn how to send such emails automatically, then this file is for you. In this file, we will walk through how to send automatic emails."
   ]
  },
  {
   "cell_type": "markdown",
   "metadata": {},
   "source": [
    "### How to Send Automatic Emails using Python?\n",
    "\n",
    "To send automatic emails using Python, we must first understand how to send an email using Python programming language. Once we know how to send an email using Python, the next thing we need to figure out is what we want to send automatically. For example, many companies send [OTP](https://thecleverprogrammer.com/2021/04/14/otp-verification-using-python/) or welcome messages, while some companies even send newsletters to newly registered users.\n",
    "\n",
    "So in the section we will automatically send a welcome message to the newly registered user. For this task, we must first generate a **google app password** for our **Gmail** account. If we don’t know how to generate it, we can learn more from this [video](https://youtu.be/ndxUgivCszE)."
   ]
  },
  {
   "cell_type": "markdown",
   "metadata": {},
   "source": [
    "### Send Automatic Emails \n",
    "It is very important to generate a Google app password for our Gmail account, as we will be sending automatic emails using Python through our Gmail account. Once we’ve generated our Google app password, here’s how we can start the task of sending emails using Python:"
   ]
  },
  {
   "cell_type": "code",
   "execution_count": 1,
   "metadata": {},
   "outputs": [],
   "source": [
    "import os\n",
    "import random\n",
    "import smtplib"
   ]
  },
  {
   "cell_type": "code",
   "execution_count": 4,
   "metadata": {},
   "outputs": [],
   "source": [
    "def automatic_email():\n",
    "    user = input(\"Enter Your Name >>: \")\n",
    "    email = input(\"Enter Your Email >>: \")\n",
    "    message = (f\"Dear {user}, Welcome to Data Sciences\")\n",
    "    s = smtplib.SMTP('smtp.gmail.com', 587)\n",
    "    s.starttls()\n",
    "    s.login(\"testvicky86@gmail.com\", \"aliali1986\")\n",
    "    s.sendmail('&&&&&&&&&&&', email, message)\n",
    "    print(\"Email Sent!\")"
   ]
  },
  {
   "cell_type": "code",
   "execution_count": 5,
   "metadata": {},
   "outputs": [
    {
     "name": "stdout",
     "output_type": "stream",
     "text": [
      "Enter Your Name >>: Waqas\n",
      "Enter Your Email >>: ali_acma@hotmail.com\n",
      "Email Sent!\n"
     ]
    }
   ],
   "source": [
    "automatic_email()"
   ]
  },
  {
   "cell_type": "markdown",
   "metadata": {},
   "source": [
    "In the code above we have defined a Python function that will automatically send emails to a newly registered user. \n",
    "* This function will start by asking for the user’s name and email. \n",
    "* Next the user’s name will be stored in the message. \n",
    "* Then in the 12th line of the code above, we need to replace the first parameter with our email and the second parameter with the google app password we generated before. \n",
    "* After that, just run the above code and we will see the output as shown above will be sent to and received by the user in his/her email inbox."
   ]
  },
  {
   "cell_type": "markdown",
   "metadata": {},
   "source": [
    "This is how you can send automatic emails using Python"
   ]
  },
  {
   "cell_type": "code",
   "execution_count": null,
   "metadata": {},
   "outputs": [],
   "source": []
  }
 ],
 "metadata": {
  "kernelspec": {
   "display_name": "Python 3",
   "language": "python",
   "name": "python3"
  },
  "language_info": {
   "codemirror_mode": {
    "name": "ipython",
    "version": 3
   },
   "file_extension": ".py",
   "mimetype": "text/x-python",
   "name": "python",
   "nbconvert_exporter": "python",
   "pygments_lexer": "ipython3",
   "version": "3.7.6"
  }
 },
 "nbformat": 4,
 "nbformat_minor": 4
}
